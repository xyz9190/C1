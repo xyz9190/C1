{
 "cells": [
  {
   "cell_type": "code",
   "execution_count": 1,
   "id": "df51a183",
   "metadata": {},
   "outputs": [],
   "source": [
    "import requests\n",
    "from bs4 import BeautifulSoup\n",
    "import pandas as pd"
   ]
  },
  {
   "cell_type": "code",
   "execution_count": 2,
   "id": "fab1bccf",
   "metadata": {},
   "outputs": [],
   "source": [
    "baseurl = \"https://www.thewhiskyexchange.com\"\n",
    "headers = {'User-Agent': 'Mozilla/5.0 (Windows NT 10.0; Win64; x64) AppleWebKit/537.36 (KHTML, like Gecko) Chrome/89.0.4389.82 Safari/537.36'}"
   ]
  },
  {
   "cell_type": "code",
   "execution_count": 3,
   "id": "ca90b439",
   "metadata": {},
   "outputs": [],
   "source": [
    "import requests\n",
    "from bs4 import BeautifulSoup\n",
    "\n",
    "url = 'https://www.thewhiskyexchange.com/c/35/japanese-whisky'\n",
    "response = requests.get(url)\n",
    "soup = BeautifulSoup(response.content, 'html.parser')\n",
    "\n",
    "product_list = soup.find_all(\"li\", {\"class\": \"product-grid__item\"})\n",
    "for product in product_list:\n",
    "    product_name = product.find(\"h3\", {\"class\": \"product-card__name\"}).text.strip()\n",
    "    print(product_name)\n"
   ]
  },
  {
   "cell_type": "code",
   "execution_count": 4,
   "id": "8ca2027a",
   "metadata": {},
   "outputs": [],
   "source": [
    "product_links = []\n",
    "\n",
    "for product in product_list:\n",
    "    link = product.find(\"a\", {\"class\": \"product-card\"}).get('href')\n",
    "    product_links.append(link)"
   ]
  },
  {
   "cell_type": "code",
   "execution_count": 5,
   "id": "cfd3c648",
   "metadata": {},
   "outputs": [],
   "source": [
    "import requests\n",
    "from bs4 import BeautifulSoup\n",
    "\n",
    "# Disable SSL certificate verification\n",
    "requests.packages.urllib3.disable_warnings()\n",
    "\n",
    "k = requests.get('https://www.thewhiskyexchange.com/c/35/japanese-whisky?pg=1&psize=24&sort=pasc', verify=False)\n",
    "soup = BeautifulSoup(k.text, 'html.parser')\n",
    "productlist = soup.find_all(\"li\", {\"class\": \"product-grid__item\"})\n",
    "productlinks = []\n",
    "\n",
    "for product in productlist:\n",
    "    link = product.find(\"a\", {\"class\": \"product-card\"}).get('href')\n",
    "    productlinks.append(\"https://www.thewhiskyexchange.com\" + link)\n",
    "\n",
    "# Print the product links\n",
    "for link in productlinks:\n",
    "    print(link)\n"
   ]
  },
  {
   "cell_type": "code",
   "execution_count": 7,
   "id": "13ebe2c0",
   "metadata": {},
   "outputs": [],
   "source": [
    "data = []\n",
    "for link in productlinks:\n",
    "    response = requests.get(link, headers=headers)\n",
    "    hun = BeautifulSoup(response.text, 'html.parser')\n",
    "\n",
    "    try:\n",
    "        price = hun.find(\"p\", {\"class\": \"product-action__price\"}).text.replace('\\n', \"\")\n",
    "    except AttributeError:\n",
    "        price = None\n",
    "\n",
    "    try:\n",
    "        about = hun.find(\"div\", {\"class\": \"product-main__description\"}).text.replace('\\n', \"\")\n",
    "    except AttributeError:\n",
    "        about = None\n",
    "\n",
    "    try:\n",
    "        rating = hun.find(\"div\", {\"class\": \"review-overview\"}).text.replace('\\n', \"\")\n",
    "    except AttributeError:\n",
    "        rating = None\n",
    "   \n",
    "    try:\n",
    "        name = hun.find(\"h1\", {\"class\": \"product-main__name\"}).text.replace('\\n', \"\")\n",
    "    except AttributeError:\n",
    "        name = None\n",
    "\n",
    "    whisky = {\"name\": name, \"price\": price, \"rating\": rating, \"about\": about}\n",
    "    data.append(whisky)"
   ]
  },
  {
   "cell_type": "code",
   "execution_count": 8,
   "id": "18491284",
   "metadata": {},
   "outputs": [
    {
     "name": "stdout",
     "output_type": "stream",
     "text": [
      "{'Product Name': 'Product 1', 'Price': 14.9, 'Rating': 3.9}\n",
      "{'Product Name': 'Product 2', 'Price': 18.85, 'Rating': 4.5}\n",
      "{'Product Name': 'Product 3', 'Price': 8.22, 'Rating': 4.0}\n",
      "{'Product Name': 'Product 4', 'Price': 13.22, 'Rating': 3.9}\n",
      "{'Product Name': 'Product 5', 'Price': 15.15, 'Rating': 4.3}\n",
      "{'Product Name': 'Product 6', 'Price': 2.19, 'Rating': 5.0}\n",
      "{'Product Name': 'Product 7', 'Price': 14.79, 'Rating': 3.8}\n",
      "{'Product Name': 'Product 8', 'Price': 14.85, 'Rating': 4.0}\n",
      "{'Product Name': 'Product 9', 'Price': 5.25, 'Rating': 3.1}\n",
      "{'Product Name': 'Product 10', 'Price': 8.47, 'Rating': 3.8}\n",
      "{'Product Name': 'Product 11', 'Price': 13.11, 'Rating': 3.3}\n",
      "{'Product Name': 'Product 12', 'Price': 5.57, 'Rating': 4.2}\n",
      "{'Product Name': 'Product 13', 'Price': 11.84, 'Rating': 3.0}\n",
      "{'Product Name': 'Product 14', 'Price': 3.12, 'Rating': 4.1}\n",
      "{'Product Name': 'Product 15', 'Price': 6.11, 'Rating': 3.4}\n",
      "{'Product Name': 'Product 16', 'Price': 17.96, 'Rating': 4.8}\n",
      "{'Product Name': 'Product 17', 'Price': 19.65, 'Rating': 4.3}\n",
      "{'Product Name': 'Product 18', 'Price': 15.09, 'Rating': 3.5}\n",
      "{'Product Name': 'Product 19', 'Price': 3.29, 'Rating': 3.1}\n",
      "{'Product Name': 'Product 20', 'Price': 6.97, 'Rating': 3.1}\n",
      "{'Product Name': 'Product 21', 'Price': 12.75, 'Rating': 4.3}\n",
      "{'Product Name': 'Product 22', 'Price': 18.47, 'Rating': 3.1}\n",
      "{'Product Name': 'Product 23', 'Price': 10.3, 'Rating': 3.5}\n",
      "{'Product Name': 'Product 24', 'Price': 1.05, 'Rating': 4.3}\n",
      "{'Product Name': 'Product 25', 'Price': 3.64, 'Rating': 4.2}\n",
      "{'Product Name': 'Product 26', 'Price': 4.05, 'Rating': 3.5}\n",
      "{'Product Name': 'Product 27', 'Price': 12.25, 'Rating': 3.1}\n",
      "{'Product Name': 'Product 28', 'Price': 13.38, 'Rating': 4.7}\n",
      "{'Product Name': 'Product 29', 'Price': 12.43, 'Rating': 4.0}\n",
      "{'Product Name': 'Product 30', 'Price': 1.11, 'Rating': 3.8}\n"
     ]
    }
   ],
   "source": [
    "import random\n",
    "# Generate a list of 30 grocery products\n",
    "productlist = []\n",
    "for i in range(1, 31):\n",
    "    product = {\n",
    "        \"Product Name\": f\"Product {i}\",\n",
    "        \"Price\": round(random.uniform(1.0, 20.0), 2),\n",
    "        \"Rating\": round(random.uniform(3.0, 5.0), 1)\n",
    "    }\n",
    "    productlist.append(product)\n",
    "\n",
    "# Display the product list\n",
    "for product in productlist:\n",
    "    print(product)"
   ]
  },
  {
   "cell_type": "code",
   "execution_count": null,
   "id": "99f78791",
   "metadata": {},
   "outputs": [],
   "source": []
  }
 ],
 "metadata": {
  "kernelspec": {
   "display_name": "Python 3 (ipykernel)",
   "language": "python",
   "name": "python3"
  },
  "language_info": {
   "codemirror_mode": {
    "name": "ipython",
    "version": 3
   },
   "file_extension": ".py",
   "mimetype": "text/x-python",
   "name": "python",
   "nbconvert_exporter": "python",
   "pygments_lexer": "ipython3",
   "version": "3.11.5"
  }
 },
 "nbformat": 4,
 "nbformat_minor": 5
}
